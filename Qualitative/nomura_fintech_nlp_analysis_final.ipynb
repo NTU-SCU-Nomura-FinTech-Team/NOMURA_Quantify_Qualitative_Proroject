{
 "cells": [
  {
   "cell_type": "markdown",
   "metadata": {},
   "source": [
    "# 自然語言處理\n",
    "* STEP 1：[資料清整](http://localhost:8888/notebooks/Python%20Learning/nomura_fintech_nlp_analysis.ipynb#%E5%8C%AF%E5%85%A5%E5%A5%97%E4%BB%B6)\n",
    "* STEP 2：[斷詞處理](http://localhost:8888/notebooks/Python%20Learning/nomura_fintech_nlp_analysis.ipynb#%E6%96%B7%E8%A9%9E%E8%99%95%E7%90%86)\n",
    "* STEP 3：[詞頻計算](http://localhost:8888/notebooks/Python%20Learning/nomura_fintech_nlp_analysis.ipynb#%E8%A9%9E%E9%A0%BB%E8%A8%88%E7%AE%97)\n",
    "* STEP 4：[稀疏矩陣](http://localhost:8888/notebooks/Python%20Learning/nomura_fintech_nlp_analysis.ipynb#%E7%A8%80%E7%96%8F%E7%9F%A9%E9%99%A3)\n",
    "* STEP 5：[共現性矩陣](http://localhost:8888/notebooks/Python%20Learning/nomura_fintech_nlp_analysis.ipynb#%E5%85%B1%E7%8F%BE%E6%80%A7%E7%9F%A9%E9%99%A3)\n",
    "* STEP 6：[資料正則化](http://localhost:8888/notebooks/Python%20Learning/nomura_fintech_nlp_analysis.ipynb#%E5%85%B1%E7%8F%BE%E6%80%A7%E7%9F%A9%E9%99%A3)\n",
    "* STEP 7：[視覺化網絡圖](http://localhost:8888/notebooks/Python%20Learning/nomura_fintech_nlp_analysis.ipynb#%E8%A6%96%E8%A6%BA%E5%8C%96%E7%B6%B2%E7%B5%A1%E5%9C%96)\n",
    "* STEP 8：[關鍵字間的關係](http://localhost:8888/notebooks/Python%20Learning/nomura_fintech_nlp_analysis.ipynb#%E9%97%9C%E9%8D%B5%E5%AD%97%E9%96%93%E7%9A%84%E9%97%9C%E4%BF%82)"
   ]
  },
  {
   "cell_type": "markdown",
   "metadata": {},
   "source": [
    "# 作業主題：全球華爾街日報中之標題解析\n",
    "# 資料來源 ： 華爾街日報（爬蟲）\n",
    "# 資料時間軸 ：2020年 1月 ~ 2020年 3月"
   ]
  },
  {
   "cell_type": "markdown",
   "metadata": {},
   "source": [
    "## 匯入套件"
   ]
  },
  {
   "cell_type": "code",
   "execution_count": null,
   "metadata": {},
   "outputs": [],
   "source": [
    "import nltk\n",
    "import spacy\n",
    "import pandas as pd\n",
    "import numpy as np\n",
    "import matplotlib.pyplot as plt\n",
    "import seaborn as sn\n",
    "import networkx as nx\n",
    "from nltk.tokenize import word_tokenize\n",
    "from nltk.stem import WordNetLemmatizer\n",
    "from langdetect import detect\n",
    "from sklearn.feature_extraction.text import CountVectorizer\n",
    "from sklearn.feature_extraction.text import TfidfTransformer"
   ]
  },
  {
   "cell_type": "code",
   "execution_count": null,
   "metadata": {},
   "outputs": [],
   "source": [
    "import networkx as nx"
   ]
  },
  {
   "cell_type": "markdown",
   "metadata": {},
   "source": [
    "## 匯入資料"
   ]
  },
  {
   "cell_type": "code",
   "execution_count": null,
   "metadata": {},
   "outputs": [],
   "source": [
    "df_ori = pd.read_csv(r'C:\\Users\\sefx5\\Desktop\\WSJ_90d_data.csv',encoding = 'utf8')"
   ]
  },
  {
   "cell_type": "markdown",
   "metadata": {},
   "source": [
    "## 顯示基本資料"
   ]
  },
  {
   "cell_type": "code",
   "execution_count": null,
   "metadata": {},
   "outputs": [],
   "source": [
    "df_ori.shape"
   ]
  },
  {
   "cell_type": "code",
   "execution_count": null,
   "metadata": {},
   "outputs": [],
   "source": [
    "df_ori.head()"
   ]
  },
  {
   "cell_type": "markdown",
   "metadata": {},
   "source": [
    "## 資料清整"
   ]
  },
  {
   "cell_type": "code",
   "execution_count": null,
   "metadata": {},
   "outputs": [],
   "source": [
    "# 將無效報導分類\n",
    "df_ori['title'] = df_ori['title'].apply(lambda title: 0 if detect(str(title))!=\"en\" else title)"
   ]
  },
  {
   "cell_type": "code",
   "execution_count": null,
   "metadata": {},
   "outputs": [],
   "source": [
    "# 顯示有無效資料筆數\n",
    "print('在標簽中的遺失值筆數為： ')\n",
    "df_ori['sub_title'].isnull().value_counts()"
   ]
  },
  {
   "cell_type": "code",
   "execution_count": null,
   "metadata": {},
   "outputs": [],
   "source": [
    "# 抽出無效報導的 index 並刪除\n",
    "drop_title_index = df_ori[df_ori['title'] == 0].index\n",
    "df_ori = df_ori.drop(drop_title_index,axis = 0)\n",
    "print('無效報導筆數為 ：' + str(len(drop_title_index)))"
   ]
  },
  {
   "cell_type": "code",
   "execution_count": null,
   "metadata": {},
   "outputs": [],
   "source": [
    "# 抽出無效標簽的 index 並刪除\n",
    "drop_label_index = df_ori[df_ori['sub_title'].isnull() == True].index\n",
    "df_ori = df_ori.drop(drop_label_index,axis = 0)\n",
    "print('無標簽報導為 ：' +str(len(drop_label_index)))"
   ]
  },
  {
   "cell_type": "code",
   "execution_count": null,
   "metadata": {},
   "outputs": [],
   "source": [
    "# 重設 index\n",
    "df_ori = df_ori.reset_index(drop = True)\n",
    "print(df_ori.shape)\n",
    "df_ori.head()"
   ]
  },
  {
   "cell_type": "markdown",
   "metadata": {},
   "source": [
    "## 斷詞處理"
   ]
  },
  {
   "cell_type": "code",
   "execution_count": null,
   "metadata": {},
   "outputs": [],
   "source": [
    "# 下載並使用 spaCy 斷字資料庫（語料庫）\n",
    "nlp = spacy.load('en_core_web_sm')\n",
    "spacy_stopwords = list(spacy.lang.en.stop_words.STOP_WORDS)\n",
    "symbols   = ['.', ',', '’','“','”','\"', \"''\" ,\"'\",'*','``', '**','$','%','&','#','-','--',\"''\",'\"\"','?', '!', ':', ';', '(', ')', '[', ']', '{', '}',\"'s\",\"'m\",\"n't\"]\n",
    "rubbish_list = ['s', 't', 'ok', '‘', 'go', '4', 'tv', 'pg', 'e', 'k', '2', 'de', 'hp', 'eu', 'd', 'xl', 'o', 'er', 'ai', 'gm', '1', '23', 'ev', 've', '22', 'hq', 'dy', '86', 'cv', '98', 'bp', '15', 'l', 'p', '5', 'la', '40', '25', '14', 'sl', 'ge', '91', '11', '81', 'm', 'll', '24', '3m', '3', 'ad', '41', '35', '10', '50', '18', 'oh', '55', '77', '7', '60', '90', '17', 'us', 'y', '30', 'vw', 'ep', '20', 'pi', 'r', '16', '32', '46', '€1', 'mb', 'ha', '29', 'xi', 'ii', 'os', '93', 'uk', '6', 'a.', 'jp', '5g', '78', '37', 'v.', 'c.', '84', '75', 'j.', 'ko', '38', 'va', '19', 'ho', 'ap', 'iq', '36', 'pc', 'dp', 'ut', 'j', '`', '34', '45', 'al', 'p.', '70', 'le', '8', '12', 'lp', 'id', 'jr', '9', 'n', 'm.', 'z', 'rb', '21', 'gi', 'em', 'be', 'v', 'cj', 'fc', 'au', 'el', 'ab', '13', 'ya', '28', 'ww', 'ar', '82', '0', 'h', 'h.', '33', 's.', '5½', 'pb', '85', 'g', '26', '92', 'b', 'g.', 'mo', 'jv', '—', '80', '56', 'vr', 'rh', 'na', 'kb', 'un', '79', '83', '27']\n",
    "spacy_stopwords.extend(symbols+rubbish_list)\n",
    "print('spaCy 語料庫擁有 {} 的斷字'.format(len(spacy_stopwords)))\n",
    "print('前 5 個斷字為 {}'.format(spacy_stopwords[:5]))"
   ]
  },
  {
   "cell_type": "code",
   "execution_count": null,
   "metadata": {},
   "outputs": [],
   "source": [
    "# 將 Stop Words List 中出現的字眼去除並把内容寫入進的 column（title_edited）\n",
    "def wsj_filter(text, stopword_list):\n",
    "    lemmatizer = WordNetLemmatizer()\n",
    "    return [lemmatizer.lemmatize(word.lower(),pos = 'n') for word in word_tokenize(str(text).lower()) if word not in stopword_list]\n",
    "\n",
    "df_ori['title_edited'] = df_ori['title'].apply(lambda text: wsj_filter(text,spacy_stopwords))\n",
    "df_ori['label_edited'] = df_ori['sub_title'].apply(lambda text: wsj_filter(text,spacy_stopwords))\n",
    "df_ori['content_edited'] = df_ori['content'].apply(lambda text: wsj_filter(text,spacy_stopwords))"
   ]
  },
  {
   "cell_type": "markdown",
   "metadata": {},
   "source": [
    "## 詞頻計算"
   ]
  },
  {
   "cell_type": "code",
   "execution_count": null,
   "metadata": {},
   "outputs": [],
   "source": [
    "# 截取及計算關鍵字，並轉成 data frame 進行條件篩選\n",
    "keywords_collection = sum(list(df_ori['title_edited']), [])\n",
    "each_words_count = nltk.FreqDist(keywords_collection)\n",
    "df_label_keyword = pd.DataFrame.from_dict(each_words_count, orient='index',columns = ['count']).sort_values(['count'], ascending = False).reset_index().rename(columns = {'index' : 'keyword'})\n",
    "# df_label_keyword = df_label_keyword[df_label_keyword['count'] > sum(df_label_keyword['count']) / df_label_keyword.shape[0]]\n",
    "df_label_keyword = df_label_keyword[:21]\n",
    "print('執行第二遍后所篩選出的關鍵子與頻數：')\n",
    "df_label_keyword.head()\n",
    "### 只需在第一次執行，接著觀察無意義關鍵字並把列表加入 stopwords list 中，\n",
    "### 再執行去除動作\n",
    "# rubbish_keyword = []\n",
    "# for word in keywords_collection:\n",
    "#     if len(word) < 3:\n",
    "#         rubbish_keyword.append(word)\n",
    "# rubbish_keyword = list(dict.fromkeys(rubbish_keyword))"
   ]
  },
  {
   "cell_type": "markdown",
   "metadata": {},
   "source": [
    "## 稀疏矩陣"
   ]
  },
  {
   "cell_type": "code",
   "execution_count": null,
   "metadata": {},
   "outputs": [],
   "source": [
    "# 建立一個關鍵字計算器，並導入到 df_ori['title_matrix'] 中\n",
    "def keyword_classification(list_):\n",
    "    output = []\n",
    "    for keyword in list(df_label_keyword['keyword']):\n",
    "        if keyword in list_:\n",
    "            count = 0\n",
    "            for word in list_:\n",
    "                if word == keyword:\n",
    "                    count+=1\n",
    "            output.append(count)\n",
    "            continue\n",
    "        output.append(0)\n",
    "    return output\n",
    "                      \n",
    "df_ori['title_matrix'] = df_ori['title_edited'].apply(keyword_classification)"
   ]
  },
  {
   "cell_type": "code",
   "execution_count": null,
   "metadata": {},
   "outputs": [],
   "source": [
    "# 將 matrix 與 keyword 列表建立一個稀疏矩陣\n",
    "df_cooc_matrix = pd.DataFrame(list(df_ori['title_matrix']),columns = list(df_label_keyword['keyword'])).reset_index(drop = True)\n",
    "# df_cooc_matrix['index'] = df_cooc_matrix['index'].apply(lambda index: df_ori['title_edited'][index])\n",
    "df_cooc_matrix.head()"
   ]
  },
  {
   "cell_type": "code",
   "execution_count": null,
   "metadata": {},
   "outputs": [],
   "source": [
    "# 畫熱點圖驗證關鍵字的分佈情況\n",
    "plt.figure(figsize=(24,24))\n",
    "sn.heatmap(df_cooc_matrix,vmin = 0,vmax = 3,cmap='Reds')\n",
    "plt.show()"
   ]
  },
  {
   "cell_type": "markdown",
   "metadata": {},
   "source": [
    "## 共現性矩陣"
   ]
  },
  {
   "cell_type": "code",
   "execution_count": null,
   "metadata": {},
   "outputs": [],
   "source": [
    "# 計算共現性矩陣（轉置矩陣，矩陣相乘）\n",
    "df_co = df_cooc_matrix.transpose()\n",
    "co_mtx = df_co.dot(df_cooc_matrix)\n",
    "co_mtx.head()"
   ]
  },
  {
   "cell_type": "markdown",
   "metadata": {},
   "source": [
    "## 資料正則化"
   ]
  },
  {
   "cell_type": "code",
   "execution_count": null,
   "metadata": {},
   "outputs": [],
   "source": [
    "co_mtx_probability = np.divide(co_mtx,df_label_keyword['count'])\n",
    "co_mtx_probability"
   ]
  },
  {
   "cell_type": "code",
   "execution_count": null,
   "metadata": {},
   "outputs": [],
   "source": [
    "plt.figure(figsize=(24,24))\n",
    "sn.heatmap(co_mtx_probability,vmin = 0,vmax = 1,cmap='Blues')\n",
    "plt.show()"
   ]
  },
  {
   "cell_type": "markdown",
   "metadata": {},
   "source": [
    "## 視覺化網絡圖"
   ]
  },
  {
   "cell_type": "code",
   "execution_count": null,
   "metadata": {},
   "outputs": [],
   "source": [
    "# 將内容轉換成 Graph 接受的形式\n",
    "high_cor_list = []\n",
    "for col_index in co_mtx_probability.columns:\n",
    "    for row_index in co_mtx_probability.columns:\n",
    "        if co_mtx[col_index][row_index] > 0:\n",
    "            high_cor_list.append((col_index,row_index,co_mtx.loc[col_index][row_index]))"
   ]
  },
  {
   "cell_type": "code",
   "execution_count": null,
   "metadata": {},
   "outputs": [],
   "source": [
    "# 初始化無向圖，並將關鍵字與權重新增到 Graph 中\n",
    "G_title = nx.Graph()\n",
    "G_title.add_weighted_edges_from(high_cor_list)"
   ]
  },
  {
   "cell_type": "code",
   "execution_count": null,
   "metadata": {},
   "outputs": [],
   "source": [
    "# 繪製關鍵字之網路圖\n",
    "plt.figure(figsize=(24,24))\n",
    "pos = nx.spring_layout(G_title)\n",
    "nx.draw(G_title,pos,node_size = [val*1000 for (node, val) in G_title.degree()],node_color = '#FFE162')\n",
    "nx.draw_networkx_labels(G_title, pos, font_size = 30,alpha = 1)\n",
    "nx.draw_networkx_edges(G_title, pos, edge_color = '#DDDDDD', alpha = 1)\n",
    "plt.show()"
   ]
  },
  {
   "cell_type": "code",
   "execution_count": null,
   "metadata": {},
   "outputs": [],
   "source": [
    "# 列出所有關鍵字的度\n",
    "for keyword,val in G_title.degree():\n",
    "    print(keyword + ' : ' + str(val) + ' Degree')"
   ]
  },
  {
   "cell_type": "markdown",
   "metadata": {},
   "source": [
    "## 關鍵字間的關係"
   ]
  },
  {
   "attachments": {
    "image.png": {
     "image/png": "[encoded data removed]"
    }
   },
   "cell_type": "markdown",
   "metadata": {},
   "source": [
    "#### 從這份簡易分析中可以瞭解到在近三個月中，因爲武漢肺炎的傳播，導致關鍵字（Coronavirus）成爲本次關鍵字中的中心節點，因此，在對應到野村專題中的債卷市場中，雖然沒有以時間序列的切入分析，但兩者之間存在高相關，因爲過程中一旦關鍵字（fed / trump / china）的出現，都會導致債卷市場出明顯波動效應。\n",
    "\n",
    "![image.png](attachment:image.png)\n",
    "\n"
   ]
  },
  {
   "cell_type": "code",
   "execution_count": null,
   "metadata": {},
   "outputs": [],
   "source": [
    "main_keyword = ['china','fed','trump']\n",
    "\n",
    "def keyword_match(list_):\n",
    "    for word in list_:\n",
    "        if word in main_keyword:\n",
    "            return 1\n",
    "        else:\n",
    "            return 0\n",
    "\n",
    "df_ori['status'] = df_ori['title_edited'].apply(keyword_match)\n",
    "list(df_ori[df_ori['status'] == 1]['date'].unique())"
   ]
  },
  {
   "cell_type": "code",
   "execution_count": null,
   "metadata": {},
   "outputs": [],
   "source": []
  }
 ],
 "metadata": {
  "kernelspec": {
   "display_name": "Python 3",
   "language": "python",
   "name": "python3"
  },
  "language_info": {
   "codemirror_mode": {
    "name": "ipython",
    "version": 3
   },
   "file_extension": ".py",
   "mimetype": "text/x-python",
   "name": "python",
   "nbconvert_exporter": "python",
   "pygments_lexer": "ipython3",
   "version": "3.7.4"
  }
 },
 "nbformat": 4,
 "nbformat_minor": 2
}
