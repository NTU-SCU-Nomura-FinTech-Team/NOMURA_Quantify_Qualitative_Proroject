{
 "cells": [
  {
   "cell_type": "markdown",
   "metadata": {},
   "source": [
    "# Plotly Tools\n",
    "\n",
    "可互動式畫圖套件 "
   ]
  },
  {
   "cell_type": "code",
   "execution_count": null,
   "metadata": {},
   "outputs": [],
   "source": [
    "import pandas as pd\n",
    "import statistics\n",
    "import datetime \n",
    "import matplotlib.pyplot as plt\n",
    "import numpy as np\n",
    "import seaborn as sb\n",
    "import codecs\n",
    "import re\n",
    "import os\n",
    "import pickle\n",
    "from datetime import datetime\n",
    "\n",
    "\n",
    "path    = './Fund_Data/野村全球高股息'\n",
    "dic     = {}\n",
    "\n",
    "# 找尋所有資料夾內的基金資料\n",
    "for dirPath, dirNames, fileNames in os.walk(path):\n",
    "    for f in fileNames:\n",
    "        if bool(re.search(r\".csv$\",f)):\n",
    "            name = f[0:-4]\n",
    "            dic[name] = os.path.join(dirPath, f)\n",
    "            print('基金: '+ name)\n",
    "            \n",
    "# 讀全部檔案\n",
    "dfs = [pd.read_csv(dic[file], skiprows=1, encoding = 'big5',names=['年月日', file + \" 淨值(元)\"]) for file in dic]\n",
    "# dfs = [pd.read_csv(dic[file],names=['年月日', file + \" 淨值(元)\"]) for file in dic]\n",
    "\n",
    "# 把全部基金的 dataframe 合併成一個\n",
    "df_merge = dfs[0]\n",
    "for df_ in dfs[1:]:\n",
    "    df_merge = df_merge.merge(df_, on='年月日', how='left')\n",
    "    \n",
    "# 把時間資料轉為 rangeselector 可讀取的格式 Ex: 2019-05-03\n",
    "x_data = []\n",
    "for x in df_merge['年月日']:\n",
    "    x_data.append(datetime.strptime(str(x), \"%Y%m%d\").strftime(\"%Y-%m-%d\"))\n",
    "    \n",
    "df_merge['年月日'] = x_data\n",
    "            \n",
    "path    = './Fund_Data/野村其他'\n",
    "dic     = {}\n",
    "\n",
    "for dirPath, dirNames, fileNames in os.walk(path):\n",
    "    for f in fileNames:\n",
    "        if bool(re.search(r\".csv$\",f)):\n",
    "            name = f[0:-4]\n",
    "            dic[name] = os.path.join(dirPath, f)\n",
    "            print('基金: '+ name)\n",
    "\n",
    "for file in dic: \n",
    "    df = pd.read_csv(dic[file])            \n",
    "    df = df[['年月日','淨值(元)']]\n",
    "    df.columns = ['年月日',file + ' 淨值(元)']\n",
    "    df = df.dropna()\n",
    "    x_data = []\n",
    "    for x in df['年月日']:\n",
    "        x_data.append(datetime.strptime(str(x), \"%Y/%m/%d\").strftime(\"%Y-%m-%d\"))\n",
    "    \n",
    "    df['年月日'] = x_data\n",
    "    df_merge = df_merge.merge(df, on='年月日', how='left')"
   ]
  },
  {
   "cell_type": "code",
   "execution_count": null,
   "metadata": {},
   "outputs": [],
   "source": [
    "df_merge.head()"
   ]
  },
  {
   "cell_type": "code",
   "execution_count": null,
   "metadata": {},
   "outputs": [],
   "source": [
    "df_merge.to_csv('All_Fund_High_Data.csv',index=False)"
   ]
  },
  {
   "cell_type": "markdown",
   "metadata": {},
   "source": [
    "## Installl plotly"
   ]
  },
  {
   "cell_type": "code",
   "execution_count": null,
   "metadata": {},
   "outputs": [],
   "source": [
    "#!pip install plotly"
   ]
  },
  {
   "cell_type": "markdown",
   "metadata": {},
   "source": [
    "# 基金資料畫圖"
   ]
  },
  {
   "cell_type": "code",
   "execution_count": null,
   "metadata": {
    "scrolled": false
   },
   "outputs": [],
   "source": [
    "from plotly.graph_objs import Scatter, Layout\n",
    "import plotly.graph_objs as go\n",
    "import plotly \n",
    "\n",
    "# 靜態\n",
    "#plotly.io.renderers.default = \"svg\" \n",
    "\n",
    "# 只在 Jupyter 裡面畫圖\n",
    "#plotly.offline.init_notebook_mode(connected=True)\n",
    "\n",
    "# 初始化圖\n",
    "fig = go.Figure()\n",
    "\n",
    "# 把每檔基金的圖畫出\n",
    "for col in df_merge.columns[1:]:\n",
    "    fig.add_trace(go.Scatter(x=df_merge['年月日'], y=df_merge[col], mode='lines', name=col[:-5]))\n",
    "    \n",
    "# 標題名稱與位置\n",
    "fig.update_layout(title_text='基金淨值', title_x=0.5)\n",
    "\n",
    "\n",
    "# 時間區段按鈕\n",
    "fig.update_xaxes(\n",
    "    rangeslider_visible=True,\n",
    "    rangeselector=dict(\n",
    "        buttons=list([\n",
    "            dict(count=1, label=\"1M\", step=\"month\", stepmode=\"backward\"),\n",
    "            dict(count=6, label=\"6M\", step=\"month\", stepmode=\"backward\"),\n",
    "            dict(count=1, label=\"YTD\", step=\"year\", stepmode=\"todate\"),\n",
    "            dict(count=1, label=\"1Y\", step=\"year\", stepmode=\"backward\"),\n",
    "            dict(count=2, label=\"2Y\", step=\"year\", stepmode=\"backward\"),\n",
    "            dict(label=\"All\",step=\"all\")\n",
    "        ])\n",
    "    )\n",
    ")\n",
    "# 靜態\n",
    "#fig.show(\"svg\")\n",
    "\n",
    "# 互動式\n",
    "fig.show()\n",
    "#plotly.offline.iplot(fig)"
   ]
  },
  {
   "cell_type": "code",
   "execution_count": null,
   "metadata": {},
   "outputs": [],
   "source": [
    "fig.write_html(path+\"All_fund.html\")"
   ]
  },
  {
   "cell_type": "markdown",
   "metadata": {},
   "source": [
    "# Violin plot\n"
   ]
  },
  {
   "cell_type": "code",
   "execution_count": null,
   "metadata": {},
   "outputs": [],
   "source": [
    "import seaborn as sns"
   ]
  },
  {
   "cell_type": "markdown",
   "metadata": {},
   "source": [
    "# 特定年各個基金的 Violin 圖"
   ]
  },
  {
   "cell_type": "code",
   "execution_count": null,
   "metadata": {},
   "outputs": [],
   "source": [
    "year = 2018\n",
    "\n",
    "fig = go.Figure()\n",
    "\n",
    "time_filter = [str(year)+'-01-01',str(year+1)+'-01-01']\n",
    "for col in df_merge.columns[1:]:\n",
    "    fig.add_trace(go.Violin(y=df_merge[(df_merge['年月日'] > time_filter[0]) & (df_merge['年月日'] < time_filter[1])][col]\n",
    "                                , name=col[:-5],box_visible=True,meanline_visible=True))\n",
    "    \n",
    "# 標題名稱與位置\n",
    "fig.update_layout(title_text=str(year) +' 年基金淨值', title_x=0.5)\n",
    "\n",
    "# 靜態\n",
    "#fig.show(\"svg\")\n",
    "\n",
    "fig.show()\n",
    "#plotly.offline.iplot(fig)"
   ]
  },
  {
   "cell_type": "code",
   "execution_count": null,
   "metadata": {},
   "outputs": [],
   "source": [
    "fig.write_html(path+\"fund_violin.html\")"
   ]
  },
  {
   "cell_type": "markdown",
   "metadata": {},
   "source": [
    "# 特定基金每年的 Violin 圖"
   ]
  },
  {
   "cell_type": "code",
   "execution_count": null,
   "metadata": {},
   "outputs": [],
   "source": [
    "years = np.arange(2009,2020)\n",
    "\n",
    "fund_name = '野村全球高股息_A 淨值(元)'\n",
    "df = df_merge[['年月日',fund_name]].copy()\n",
    "\n",
    "df['漲跌幅'] = 100*(df[fund_name] - df[fund_name].shift(1))/df[fund_name].shift(1)\n",
    "fig = go.Figure()\n",
    "\n",
    "for year in years:\n",
    "    time_filter = [str(year)+'-01-01',str(year+1)+'-01-01']\n",
    "    fig.add_trace(go.Violin(y=df[(df['年月日'] > time_filter[0]) & (df['年月日'] < time_filter[1])]['漲跌幅']\n",
    "                                , name=str(year),box_visible=True,meanline_visible=True))\n",
    "    \n",
    "# 標題名稱與位置\n",
    "fig.update_layout(title_text= fund_name, title_x=0.5)\n",
    "\n",
    "# 靜態\n",
    "#fig.show(\"svg\")\n",
    "\n",
    "# 互動式\n",
    "fig.show()\n",
    "#fig.show()\n",
    "#plotly.offline.iplot(fig)"
   ]
  },
  {
   "cell_type": "code",
   "execution_count": null,
   "metadata": {},
   "outputs": [],
   "source": [
    "fig.write_html(path+fund_name+\"fund_violin.html\")"
   ]
  },
  {
   "cell_type": "code",
   "execution_count": null,
   "metadata": {},
   "outputs": [],
   "source": [
    "years = np.arange(2015,2020)\n",
    "\n",
    "fund_name = '野村全球高股息_A 淨值(元)'\n",
    "df = df_merge[['年月日',fund_name]]\n",
    "fig = go.Figure()\n",
    "\n",
    "for year in years:\n",
    "    time_filter = [str(year)+'-01-01',str(year+1)+'-01-01']\n",
    "    fig.add_trace(go.Violin(y=df[(df['年月日'] > time_filter[0]) & (df['年月日'] < time_filter[1])][fund_name]\n",
    "                                , name=str(year),box_visible=True,meanline_visible=True))\n",
    "    \n",
    "# 標題名稱與位置\n",
    "fig.update_layout(title_text= fund_name[:-5], title_x=0.5)\n",
    "\n",
    "# 靜態\n",
    "#fig.show(\"svg\")\n",
    "\n",
    "# 互動式\n",
    "fig.show()\n",
    "#fig.show()\n",
    "#plotly.offline.iplot(fig)"
   ]
  },
  {
   "cell_type": "markdown",
   "metadata": {},
   "source": [
    "# 特定基金每年每月的 Violin 圖\n"
   ]
  },
  {
   "cell_type": "code",
   "execution_count": null,
   "metadata": {},
   "outputs": [],
   "source": [
    "years = np.arange(2015,2020)\n",
    "months = np.arange(1,13)\n",
    "fund_name = '野村美利高收債A 淨值(元)'\n",
    "df = df_merge[['年月日',fund_name]]\n",
    "fig = go.Figure()\n",
    "color = ['Brown','Red','LightCoral','orange','Gold','MediumAquamarine','MediumSpringGreen','Teal','DeepSkyBlue','MediumBlue','MediumOrchid','Purple']\n",
    " \n",
    "\n",
    "for year in years:\n",
    "    showlegend = True\n",
    "    for month in months:\n",
    "        time_filter = [str(year)+'-'+str(month).zfill(2)+'-01',str(year)+'-'+str(month).zfill(2)+'-31']\n",
    "        fig.add_trace(go.Violin(y=df[(df['年月日'] > time_filter[0]) & (df['年月日'] < time_filter[1])][fund_name]\n",
    "                                , name=str(year)+'-'+str(month).zfill(2)\n",
    "                                , line_color= color[month-1]\n",
    "                                , legendgroup=str(year)\n",
    "                                , showlegend= showlegend\n",
    "                                , box_visible=True,meanline_visible=True))\n",
    "\n",
    "    \n",
    "# 標題名稱與位置\n",
    "fig.update_layout(title_text= fund_name[:-5], title_x=0.5)\n",
    "\n",
    "# 時間區段按鈕\n",
    "fig.update_xaxes(\n",
    "    rangeslider_visible=True,\n",
    "    rangeselector=dict(\n",
    "        buttons=list([\n",
    "            dict(count=1, label=\"1M\", step=\"month\", stepmode=\"backward\"),\n",
    "            dict(count=6, label=\"6M\", step=\"month\", stepmode=\"backward\"),\n",
    "            dict(count=1, label=\"YTD\", step=\"year\", stepmode=\"todate\"),\n",
    "            dict(count=1, label=\"1Y\", step=\"year\", stepmode=\"backward\"),\n",
    "            dict(count=2, label=\"2Y\", step=\"year\", stepmode=\"backward\"),\n",
    "            dict(label=\"All\",step=\"all\")\n",
    "        ])\n",
    "    )\n",
    ")\n",
    "\n",
    "# 靜態\n",
    "#fig.show(\"svg\")\n",
    "\n",
    "# 互動式\n",
    "fig.show()\n",
    "#plotly.offline.iplot(fig)"
   ]
  },
  {
   "cell_type": "markdown",
   "metadata": {},
   "source": [
    "# 特定基金每月的 Violin 圖"
   ]
  },
  {
   "cell_type": "code",
   "execution_count": null,
   "metadata": {},
   "outputs": [],
   "source": [
    "years = np.arange(2015,2020)\n",
    "months = np.arange(1,13)\n",
    "fund_name = '野村美利高收債A 淨值(元)'\n",
    "df = df_merge[['年月日',fund_name]]\n",
    "fig = go.Figure()\n",
    "color = ['LightCoral','orange','MediumSpringGreen','DeepSkyBlue','MediumOrchid']\n",
    " \n",
    "    \n",
    "    \n",
    "for year in years:\n",
    "    showlegend = True\n",
    "    for month in months:\n",
    "        time_filter = [str(year)+'-'+str(month).zfill(2)+'-01',str(year)+'-'+str(month).zfill(2)+'-31']\n",
    "        fig.add_trace(go.Violin(y=df[(df['年月日'] > time_filter[0]) & (df['年月日'] < time_filter[1])][fund_name]\n",
    "                                , name=str(month).zfill(2)\n",
    "                                , legendgroup=str(year)\n",
    "                                , showlegend= showlegend\n",
    "                                , hovertext=str(year)\n",
    "                                , line_color= color[year-2015]))\n",
    "        showlegend = False\n",
    "\n",
    "    \n",
    "# 標題名稱與位置\n",
    "fig.update_layout(title_text= fund_name[:-5], title_x=0.5)\n",
    "\n",
    "\n",
    "# 靜態\n",
    "#fig.show(\"svg\")\n",
    "\n",
    "# 互動式\n",
    "fig.show()\n",
    "#plotly.offline.iplot(fig)"
   ]
  },
  {
   "cell_type": "code",
   "execution_count": null,
   "metadata": {},
   "outputs": [],
   "source": []
  }
 ],
 "metadata": {
  "kernelspec": {
   "display_name": "Python 3",
   "language": "python",
   "name": "python3"
  },
  "language_info": {
   "codemirror_mode": {
    "name": "ipython",
    "version": 3
   },
   "file_extension": ".py",
   "mimetype": "text/x-python",
   "name": "python",
   "nbconvert_exporter": "python",
   "pygments_lexer": "ipython3",
   "version": "3.7.6"
  }
 },
 "nbformat": 4,
 "nbformat_minor": 2
}
