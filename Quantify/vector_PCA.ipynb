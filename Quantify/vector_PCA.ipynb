{
  "nbformat": 4,
  "nbformat_minor": 0,
  "metadata": {
    "colab": {
      "name": "vector_PCA.ipynb",
      "provenance": [],
      "collapsed_sections": [],
      "machine_shape": "hm"
    },
    "kernelspec": {
      "name": "python3",
      "display_name": "Python 3"
    }
  },
  "cells": [
    {
      "cell_type": "code",
      "metadata": {
        "id": "d5brPSqLmf5b",
        "colab_type": "code",
        "colab": {
          "base_uri": "https://localhost:8080/",
          "height": 204
        },
        "outputId": "e949d741-7aff-4902-f577-9d3ffd803bec"
      },
      "source": [
        "!wget https://dl.fbaipublicfiles.com/fasttext/vectors-crawl/cc.en.300.bin.gz  # wget會從網址下載檔案\n",
        "!gunzip cc.en.300.bin.gz"
      ],
      "execution_count": 2,
      "outputs": [
        {
          "output_type": "stream",
          "text": [
            "--2020-06-04 13:51:43--  https://dl.fbaipublicfiles.com/fasttext/vectors-crawl/cc.en.300.bin.gz\n",
            "Resolving dl.fbaipublicfiles.com (dl.fbaipublicfiles.com)... 104.22.75.142, 104.22.74.142, 2606:4700:10::6816:4b8e, ...\n",
            "Connecting to dl.fbaipublicfiles.com (dl.fbaipublicfiles.com)|104.22.75.142|:443... connected.\n",
            "HTTP request sent, awaiting response... 200 OK\n",
            "Length: 4503593528 (4.2G) [application/octet-stream]\n",
            "Saving to: ‘cc.en.300.bin.gz’\n",
            "\n",
            "cc.en.300.bin.gz    100%[===================>]   4.19G  14.3MB/s    in 5m 3s   \n",
            "\n",
            "2020-06-04 13:56:47 (14.2 MB/s) - ‘cc.en.300.bin.gz’ saved [4503593528/4503593528]\n",
            "\n"
          ],
          "name": "stdout"
        }
      ]
    },
    {
      "cell_type": "code",
      "metadata": {
        "id": "JBXi2hWYpQ7W",
        "colab_type": "code",
        "colab": {}
      },
      "source": [
        "import pandas as pd\n"
      ],
      "execution_count": 0,
      "outputs": []
    },
    {
      "cell_type": "code",
      "metadata": {
        "id": "zFjhROmwmKt8",
        "colab_type": "code",
        "colab": {
          "base_uri": "https://localhost:8080/",
          "height": 51
        },
        "outputId": "9c092582-0ea3-432a-8a44-032bf93840ae"
      },
      "source": [
        "# Fasttext斷字資料庫（預訓練好的300 dim 語料庫無法continue training）\n",
        "#! pip install fasttext\n",
        "import fasttext\n",
        "import fasttext.util\n",
        "ft = fasttext.load_model('cc.en.300.bin')\n",
        "#ft.get_dimension()\n",
        "fasttext.util.reduce_model(ft, 100) # 降到100維"
      ],
      "execution_count": 2,
      "outputs": [
        {
          "output_type": "stream",
          "text": [
            "Warning : `load_model` does not return WordVectorModel or SupervisedModel any more, but a `FastText` object which is very similar.\n"
          ],
          "name": "stderr"
        },
        {
          "output_type": "execute_result",
          "data": {
            "text/plain": [
              "<fasttext.FastText._FastText at 0x7f2cd28fee48>"
            ]
          },
          "metadata": {
            "tags": []
          },
          "execution_count": 2
        }
      ]
    },
    {
      "cell_type": "code",
      "metadata": {
        "id": "gcMFCyU7mZV7",
        "colab_type": "code",
        "colab": {
          "base_uri": "https://localhost:8080/",
          "height": 589
        },
        "outputId": "4160e382-575b-4f11-c4df-e29b175b9853"
      },
      "source": [
        "# reload a file to a variable\n",
        "import pickle\n",
        "with open('/content/drive/My Drive/野村_文字探勘_加減碼_組別一/Reddit/30up_processed_reddit.pickle', 'rb') as file:\n",
        "    df_reddit_all_fund =pickle.load(file)\n",
        "\n",
        "df_reddit_all_fund"
      ],
      "execution_count": 56,
      "outputs": [
        {
          "output_type": "execute_result",
          "data": {
            "text/html": [
              "<div>\n",
              "<style scoped>\n",
              "    .dataframe tbody tr th:only-of-type {\n",
              "        vertical-align: middle;\n",
              "    }\n",
              "\n",
              "    .dataframe tbody tr th {\n",
              "        vertical-align: top;\n",
              "    }\n",
              "\n",
              "    .dataframe thead th {\n",
              "        text-align: right;\n",
              "    }\n",
              "</style>\n",
              "<table border=\"1\" class=\"dataframe\">\n",
              "  <thead>\n",
              "    <tr style=\"text-align: right;\">\n",
              "      <th></th>\n",
              "      <th>Date</th>\n",
              "      <th>Score</th>\n",
              "      <th>Title</th>\n",
              "      <th>Content</th>\n",
              "      <th>title_edited</th>\n",
              "      <th>content_edited</th>\n",
              "    </tr>\n",
              "  </thead>\n",
              "  <tbody>\n",
              "    <tr>\n",
              "      <th>3175</th>\n",
              "      <td>2011-04-05</td>\n",
              "      <td>83</td>\n",
              "      <td>Reddit Investment Club: Would you be interested?</td>\n",
              "      <td>I'm just throwing it out there for discussion,...</td>\n",
              "      <td>[reddit, investment, club, interested]</td>\n",
              "      <td>[throwing, discussion, chime, ideas/suggestion...</td>\n",
              "    </tr>\n",
              "    <tr>\n",
              "      <th>3197</th>\n",
              "      <td>2011-04-10</td>\n",
              "      <td>77</td>\n",
              "      <td>Top 10 things I've learned about people like y...</td>\n",
              "      <td>I help finance personal and business loans thr...</td>\n",
              "      <td>[thing, learned, people, like, loaning, money]</td>\n",
              "      <td>[help, finance, personal, business, loan, pros...</td>\n",
              "    </tr>\n",
              "    <tr>\n",
              "      <th>3369</th>\n",
              "      <td>2011-05-26</td>\n",
              "      <td>66</td>\n",
              "      <td>Congress outperforms average investor by 6% pe...</td>\n",
              "      <td>nan</td>\n",
              "      <td>[congress, outperforms, average, investor, yea...</td>\n",
              "      <td>[]</td>\n",
              "    </tr>\n",
              "    <tr>\n",
              "      <th>3385</th>\n",
              "      <td>2011-05-30</td>\n",
              "      <td>35</td>\n",
              "      <td>Earn about 35-45k/year. Saved 200k. How should...</td>\n",
              "      <td>I freelance in film and television, which lead...</td>\n",
              "      <td>[earn, 35-45k/year, saved, 200k, invest]</td>\n",
              "      <td>[freelance, film, television, lead, lot, busy,...</td>\n",
              "    </tr>\n",
              "    <tr>\n",
              "      <th>3438</th>\n",
              "      <td>2011-06-14</td>\n",
              "      <td>34</td>\n",
              "      <td>Why Groupon is poised for collapse</td>\n",
              "      <td>nan</td>\n",
              "      <td>[groupon, poised, collapse]</td>\n",
              "      <td>[]</td>\n",
              "    </tr>\n",
              "    <tr>\n",
              "      <th>...</th>\n",
              "      <td>...</td>\n",
              "      <td>...</td>\n",
              "      <td>...</td>\n",
              "      <td>...</td>\n",
              "      <td>...</td>\n",
              "      <td>...</td>\n",
              "    </tr>\n",
              "    <tr>\n",
              "      <th>23253</th>\n",
              "      <td>2020-04-16</td>\n",
              "      <td>124</td>\n",
              "      <td>Has anyone else noticed a strong uptick in noo...</td>\n",
              "      <td>Seems like there are more posts from “first ti...</td>\n",
              "      <td>[noticed, strong, uptick, noob/first, time, in...</td>\n",
              "      <td>[like, post, time, getting, market, poster, no...</td>\n",
              "    </tr>\n",
              "    <tr>\n",
              "      <th>23254</th>\n",
              "      <td>2020-04-17</td>\n",
              "      <td>542</td>\n",
              "      <td>Shopify CTO: \"our platform is now handling Bla...</td>\n",
              "      <td>\\n\\nGoes along with what WIX said the other da...</td>\n",
              "      <td>[shopify, cto, platform, handling, black, frid...</td>\n",
              "      <td>[go, wix, said, day, belief, platform, fare, e...</td>\n",
              "    </tr>\n",
              "    <tr>\n",
              "      <th>23255</th>\n",
              "      <td>2020-04-17</td>\n",
              "      <td>235</td>\n",
              "      <td>GILD releases statement on remdesivir, saying ...</td>\n",
              "      <td>Today GILD releaseed a statement on ***remdesi...</td>\n",
              "      <td>[gild, release, statement, remdesivir, saying,...</td>\n",
              "      <td>[today, gild, releaseed, statement, ***remdesi...</td>\n",
              "    </tr>\n",
              "    <tr>\n",
              "      <th>23256</th>\n",
              "      <td>2020-04-18</td>\n",
              "      <td>103</td>\n",
              "      <td>Congressman calls for SEC investigation into l...</td>\n",
              "      <td></td>\n",
              "      <td>[congressman, call, sec, investigation, leak, ...</td>\n",
              "      <td>[]</td>\n",
              "    </tr>\n",
              "    <tr>\n",
              "      <th>23257</th>\n",
              "      <td>2020-04-18</td>\n",
              "      <td>141</td>\n",
              "      <td>24 Hour Fitness weighs bankruptcy as coronavir...</td>\n",
              "      <td></td>\n",
              "      <td>[hour, fitness, weighs, bankruptcy, coronaviru...</td>\n",
              "      <td>[]</td>\n",
              "    </tr>\n",
              "  </tbody>\n",
              "</table>\n",
              "<p>7026 rows × 6 columns</p>\n",
              "</div>"
            ],
            "text/plain": [
              "             Date  ...                                     content_edited\n",
              "3175   2011-04-05  ...  [throwing, discussion, chime, ideas/suggestion...\n",
              "3197   2011-04-10  ...  [help, finance, personal, business, loan, pros...\n",
              "3369   2011-05-26  ...                                                 []\n",
              "3385   2011-05-30  ...  [freelance, film, television, lead, lot, busy,...\n",
              "3438   2011-06-14  ...                                                 []\n",
              "...           ...  ...                                                ...\n",
              "23253  2020-04-16  ...  [like, post, time, getting, market, poster, no...\n",
              "23254  2020-04-17  ...  [go, wix, said, day, belief, platform, fare, e...\n",
              "23255  2020-04-17  ...  [today, gild, releaseed, statement, ***remdesi...\n",
              "23256  2020-04-18  ...                                                 []\n",
              "23257  2020-04-18  ...                                                 []\n",
              "\n",
              "[7026 rows x 6 columns]"
            ]
          },
          "metadata": {
            "tags": []
          },
          "execution_count": 56
        }
      ]
    },
    {
      "cell_type": "code",
      "metadata": {
        "id": "D5m7KhcpmjwO",
        "colab_type": "code",
        "colab": {
          "base_uri": "https://localhost:8080/",
          "height": 436
        },
        "outputId": "d9ecf169-f379-4cc3-fd4a-5cc642ec7ee9"
      },
      "source": [
        "# 同一天合併\n",
        "df_reddit_all_fund = df_reddit_all_fund.sort_values(by='Date')\n",
        "date_list = df_reddit_all_fund['Date'].dropna().drop_duplicates().tolist()\n",
        "\n",
        "df_reddit_edited = df_reddit_all_fund[['Date','title_edited','content_edited']]\n",
        "print(len(date_list))\n",
        "\n",
        "df_get_vector = pd.DataFrame(columns = ['Date','Text'])\n",
        "\n",
        "for item in date_list:\n",
        "    l = []\n",
        "    a = df_reddit_all_fund.groupby('Date').get_group(item) # type = dataframe\n",
        "    a = a.reset_index(drop = True)\n",
        "    for i in range(len(a)):\n",
        "      l = l + a.loc[i,'title_edited'] + a.loc[i,'content_edited']\n",
        "    df_get_vector = df_get_vector.append({ 'Date': a.loc[0,'Date'], \n",
        "                             'Text': l}, ignore_index = True)\n",
        "\n",
        "df_get_vector"
      ],
      "execution_count": 57,
      "outputs": [
        {
          "output_type": "stream",
          "text": [
            "2729\n"
          ],
          "name": "stdout"
        },
        {
          "output_type": "execute_result",
          "data": {
            "text/html": [
              "<div>\n",
              "<style scoped>\n",
              "    .dataframe tbody tr th:only-of-type {\n",
              "        vertical-align: middle;\n",
              "    }\n",
              "\n",
              "    .dataframe tbody tr th {\n",
              "        vertical-align: top;\n",
              "    }\n",
              "\n",
              "    .dataframe thead th {\n",
              "        text-align: right;\n",
              "    }\n",
              "</style>\n",
              "<table border=\"1\" class=\"dataframe\">\n",
              "  <thead>\n",
              "    <tr style=\"text-align: right;\">\n",
              "      <th></th>\n",
              "      <th>Date</th>\n",
              "      <th>Text</th>\n",
              "    </tr>\n",
              "  </thead>\n",
              "  <tbody>\n",
              "    <tr>\n",
              "      <th>0</th>\n",
              "      <td>2011-04-05</td>\n",
              "      <td>[reddit, investment, club, interested, throwin...</td>\n",
              "    </tr>\n",
              "    <tr>\n",
              "      <th>1</th>\n",
              "      <td>2011-04-10</td>\n",
              "      <td>[thing, learned, people, like, loaning, money,...</td>\n",
              "    </tr>\n",
              "    <tr>\n",
              "      <th>2</th>\n",
              "      <td>2011-05-26</td>\n",
              "      <td>[congress, outperforms, average, investor, yea...</td>\n",
              "    </tr>\n",
              "    <tr>\n",
              "      <th>3</th>\n",
              "      <td>2011-05-30</td>\n",
              "      <td>[earn, 35-45k/year, saved, 200k, invest, freel...</td>\n",
              "    </tr>\n",
              "    <tr>\n",
              "      <th>4</th>\n",
              "      <td>2011-06-14</td>\n",
              "      <td>[groupon, poised, collapse]</td>\n",
              "    </tr>\n",
              "    <tr>\n",
              "      <th>...</th>\n",
              "      <td>...</td>\n",
              "      <td>...</td>\n",
              "    </tr>\n",
              "    <tr>\n",
              "      <th>2724</th>\n",
              "      <td>2020-04-14</td>\n",
              "      <td>[airline, treasury, reach, agreement, principl...</td>\n",
              "    </tr>\n",
              "    <tr>\n",
              "      <th>2725</th>\n",
              "      <td>2020-04-15</td>\n",
              "      <td>[bear, market, rally, largely, fomo, buying, r...</td>\n",
              "    </tr>\n",
              "    <tr>\n",
              "      <th>2726</th>\n",
              "      <td>2020-04-16</td>\n",
              "      <td>[small, business, rescue, loan, program, hit, ...</td>\n",
              "    </tr>\n",
              "    <tr>\n",
              "      <th>2727</th>\n",
              "      <td>2020-04-17</td>\n",
              "      <td>[shopify, cto, platform, handling, black, frid...</td>\n",
              "    </tr>\n",
              "    <tr>\n",
              "      <th>2728</th>\n",
              "      <td>2020-04-18</td>\n",
              "      <td>[congressman, call, sec, investigation, leak, ...</td>\n",
              "    </tr>\n",
              "  </tbody>\n",
              "</table>\n",
              "<p>2729 rows × 2 columns</p>\n",
              "</div>"
            ],
            "text/plain": [
              "            Date                                               Text\n",
              "0     2011-04-05  [reddit, investment, club, interested, throwin...\n",
              "1     2011-04-10  [thing, learned, people, like, loaning, money,...\n",
              "2     2011-05-26  [congress, outperforms, average, investor, yea...\n",
              "3     2011-05-30  [earn, 35-45k/year, saved, 200k, invest, freel...\n",
              "4     2011-06-14                        [groupon, poised, collapse]\n",
              "...          ...                                                ...\n",
              "2724  2020-04-14  [airline, treasury, reach, agreement, principl...\n",
              "2725  2020-04-15  [bear, market, rally, largely, fomo, buying, r...\n",
              "2726  2020-04-16  [small, business, rescue, loan, program, hit, ...\n",
              "2727  2020-04-17  [shopify, cto, platform, handling, black, frid...\n",
              "2728  2020-04-18  [congressman, call, sec, investigation, leak, ...\n",
              "\n",
              "[2729 rows x 2 columns]"
            ]
          },
          "metadata": {
            "tags": []
          },
          "execution_count": 57
        }
      ]
    },
    {
      "cell_type": "code",
      "metadata": {
        "id": "iW-gS4VAmu8q",
        "colab_type": "code",
        "colab": {
          "base_uri": "https://localhost:8080/",
          "height": 34
        },
        "outputId": "8aa3f01f-ebff-47b7-bfbd-8859266431e7"
      },
      "source": [
        "# get word vectors from pre-trained model from Facebook\n",
        "# dim = 100\n",
        "import numpy as np\n",
        "\n",
        "#df_get_vector['Vectors'] = 0\n",
        "v2_list = []\n",
        "err = []\n",
        "\n",
        "for i in range(len(df_get_vector)):\n",
        "  text_list = df_get_vector.loc[i,'Text']\n",
        "  v_list = []\n",
        "  for j in range(len(text_list)):\n",
        "    try:\n",
        "      f = ft.get_word_vector(text_list[j])\n",
        "      v_list.append(f) # a sparse matrix\n",
        "      \n",
        "    except Exception as e :\n",
        "      print(i,\" \",e)\n",
        "      err.append(text_list[j])\n",
        "\n",
        "    v2_list.append(v_list)\n",
        "  \n",
        "#df_get_vector.loc[i,'Vectors'] = v_list\n",
        "#df_get_vector\n",
        "len(v2_list)"
      ],
      "execution_count": 64,
      "outputs": [
        {
          "output_type": "execute_result",
          "data": {
            "text/plain": [
              "405921"
            ]
          },
          "metadata": {
            "tags": []
          },
          "execution_count": 64
        }
      ]
    },
    {
      "cell_type": "code",
      "metadata": {
        "id": "OEXfqSY0m4aD",
        "colab_type": "code",
        "colab": {
          "base_uri": "https://localhost:8080/",
          "height": 419
        },
        "outputId": "2ddbee4d-6bc0-4beb-dad5-111ae85bf074"
      },
      "source": [
        "df_t = pd.DataFrame(columns=['100 dim'])\n",
        "df_t['100 dim'] = v2_list\n",
        "df_get_vector['5_Vectors'] = df_t['100 dim']\n",
        "#v2_list[0]\n",
        "df_get_vector"
      ],
      "execution_count": 73,
      "outputs": [
        {
          "output_type": "execute_result",
          "data": {
            "text/html": [
              "<div>\n",
              "<style scoped>\n",
              "    .dataframe tbody tr th:only-of-type {\n",
              "        vertical-align: middle;\n",
              "    }\n",
              "\n",
              "    .dataframe tbody tr th {\n",
              "        vertical-align: top;\n",
              "    }\n",
              "\n",
              "    .dataframe thead th {\n",
              "        text-align: right;\n",
              "    }\n",
              "</style>\n",
              "<table border=\"1\" class=\"dataframe\">\n",
              "  <thead>\n",
              "    <tr style=\"text-align: right;\">\n",
              "      <th></th>\n",
              "      <th>Date</th>\n",
              "      <th>Text</th>\n",
              "      <th>5_Vectors</th>\n",
              "    </tr>\n",
              "  </thead>\n",
              "  <tbody>\n",
              "    <tr>\n",
              "      <th>0</th>\n",
              "      <td>2011-04-05</td>\n",
              "      <td>[reddit, investment, club, interested, throwin...</td>\n",
              "      <td>[[-0.044691846, -0.2069555, 0.0025488473, -0.0...</td>\n",
              "    </tr>\n",
              "    <tr>\n",
              "      <th>1</th>\n",
              "      <td>2011-04-10</td>\n",
              "      <td>[thing, learned, people, like, loaning, money,...</td>\n",
              "      <td>[[-0.044691846, -0.2069555, 0.0025488473, -0.0...</td>\n",
              "    </tr>\n",
              "    <tr>\n",
              "      <th>2</th>\n",
              "      <td>2011-05-26</td>\n",
              "      <td>[congress, outperforms, average, investor, yea...</td>\n",
              "      <td>[[-0.044691846, -0.2069555, 0.0025488473, -0.0...</td>\n",
              "    </tr>\n",
              "    <tr>\n",
              "      <th>3</th>\n",
              "      <td>2011-05-30</td>\n",
              "      <td>[earn, 35-45k/year, saved, 200k, invest, freel...</td>\n",
              "      <td>[[-0.044691846, -0.2069555, 0.0025488473, -0.0...</td>\n",
              "    </tr>\n",
              "    <tr>\n",
              "      <th>4</th>\n",
              "      <td>2011-06-14</td>\n",
              "      <td>[groupon, poised, collapse]</td>\n",
              "      <td>[[-0.044691846, -0.2069555, 0.0025488473, -0.0...</td>\n",
              "    </tr>\n",
              "    <tr>\n",
              "      <th>...</th>\n",
              "      <td>...</td>\n",
              "      <td>...</td>\n",
              "      <td>...</td>\n",
              "    </tr>\n",
              "    <tr>\n",
              "      <th>2724</th>\n",
              "      <td>2020-04-14</td>\n",
              "      <td>[airline, treasury, reach, agreement, principl...</td>\n",
              "      <td>[[0.2365981, -0.20466095, -0.13347831, -0.2828...</td>\n",
              "    </tr>\n",
              "    <tr>\n",
              "      <th>2725</th>\n",
              "      <td>2020-04-15</td>\n",
              "      <td>[bear, market, rally, largely, fomo, buying, r...</td>\n",
              "      <td>[[0.2365981, -0.20466095, -0.13347831, -0.2828...</td>\n",
              "    </tr>\n",
              "    <tr>\n",
              "      <th>2726</th>\n",
              "      <td>2020-04-16</td>\n",
              "      <td>[small, business, rescue, loan, program, hit, ...</td>\n",
              "      <td>[[0.0587442, -0.09827107, -0.07613396, 0.14387...</td>\n",
              "    </tr>\n",
              "    <tr>\n",
              "      <th>2727</th>\n",
              "      <td>2020-04-17</td>\n",
              "      <td>[shopify, cto, platform, handling, black, frid...</td>\n",
              "      <td>[[0.0587442, -0.09827107, -0.07613396, 0.14387...</td>\n",
              "    </tr>\n",
              "    <tr>\n",
              "      <th>2728</th>\n",
              "      <td>2020-04-18</td>\n",
              "      <td>[congressman, call, sec, investigation, leak, ...</td>\n",
              "      <td>[[0.0587442, -0.09827107, -0.07613396, 0.14387...</td>\n",
              "    </tr>\n",
              "  </tbody>\n",
              "</table>\n",
              "<p>2729 rows × 3 columns</p>\n",
              "</div>"
            ],
            "text/plain": [
              "            Date  ...                                          5_Vectors\n",
              "0     2011-04-05  ...  [[-0.044691846, -0.2069555, 0.0025488473, -0.0...\n",
              "1     2011-04-10  ...  [[-0.044691846, -0.2069555, 0.0025488473, -0.0...\n",
              "2     2011-05-26  ...  [[-0.044691846, -0.2069555, 0.0025488473, -0.0...\n",
              "3     2011-05-30  ...  [[-0.044691846, -0.2069555, 0.0025488473, -0.0...\n",
              "4     2011-06-14  ...  [[-0.044691846, -0.2069555, 0.0025488473, -0.0...\n",
              "...          ...  ...                                                ...\n",
              "2724  2020-04-14  ...  [[0.2365981, -0.20466095, -0.13347831, -0.2828...\n",
              "2725  2020-04-15  ...  [[0.2365981, -0.20466095, -0.13347831, -0.2828...\n",
              "2726  2020-04-16  ...  [[0.0587442, -0.09827107, -0.07613396, 0.14387...\n",
              "2727  2020-04-17  ...  [[0.0587442, -0.09827107, -0.07613396, 0.14387...\n",
              "2728  2020-04-18  ...  [[0.0587442, -0.09827107, -0.07613396, 0.14387...\n",
              "\n",
              "[2729 rows x 3 columns]"
            ]
          },
          "metadata": {
            "tags": []
          },
          "execution_count": 73
        }
      ]
    },
    {
      "cell_type": "code",
      "metadata": {
        "id": "ITEc9FInqGUv",
        "colab_type": "code",
        "colab": {
          "base_uri": "https://localhost:8080/",
          "height": 895
        },
        "outputId": "b6ae713a-beaa-4d06-cb2f-5baaee9993a5"
      },
      "source": [
        "# 展開每一天向量list\n",
        "\n",
        "\n",
        "for i in range(0, len(df_get_vector), 1):\n",
        "  if i%100 == 0:\n",
        "    print(i)\n",
        "  try:\n",
        "    vector_list = []\n",
        "    l1 = df_get_vector.loc[i,'5_Vectors']\n",
        "    for j in range(len(l1)):\n",
        "      l2 = l1[j]\n",
        "      for k in range(len(l2)):\n",
        "        vector_list.append(l2[k])\n",
        "    df_get_vector.loc[i,'5_Vectors'] = vector_list\n",
        "  except:\n",
        "      print(i,' ',j, ' ',k,'',l2)\n",
        "      print(\"=================================\")\n",
        "df_get_vector\n"
      ],
      "execution_count": 74,
      "outputs": [
        {
          "output_type": "stream",
          "text": [
            "0\n",
            "100\n",
            "200\n",
            "300\n",
            "400\n",
            "500\n",
            "600\n",
            "700\n",
            "800\n",
            "900\n",
            "1000\n",
            "1100\n",
            "1200\n",
            "1300\n",
            "1400\n",
            "1500\n",
            "1600\n",
            "1700\n",
            "1800\n",
            "1900\n",
            "2000\n",
            "2100\n",
            "2200\n",
            "2300\n",
            "2400\n",
            "2500\n",
            "2600\n",
            "2700\n"
          ],
          "name": "stdout"
        },
        {
          "output_type": "execute_result",
          "data": {
            "text/html": [
              "<div>\n",
              "<style scoped>\n",
              "    .dataframe tbody tr th:only-of-type {\n",
              "        vertical-align: middle;\n",
              "    }\n",
              "\n",
              "    .dataframe tbody tr th {\n",
              "        vertical-align: top;\n",
              "    }\n",
              "\n",
              "    .dataframe thead th {\n",
              "        text-align: right;\n",
              "    }\n",
              "</style>\n",
              "<table border=\"1\" class=\"dataframe\">\n",
              "  <thead>\n",
              "    <tr style=\"text-align: right;\">\n",
              "      <th></th>\n",
              "      <th>Date</th>\n",
              "      <th>Text</th>\n",
              "      <th>5_Vectors</th>\n",
              "    </tr>\n",
              "  </thead>\n",
              "  <tbody>\n",
              "    <tr>\n",
              "      <th>0</th>\n",
              "      <td>2011-04-05</td>\n",
              "      <td>[reddit, investment, club, interested, throwin...</td>\n",
              "      <td>[-0.044691846, -0.2069555, 0.0025488473, -0.06...</td>\n",
              "    </tr>\n",
              "    <tr>\n",
              "      <th>1</th>\n",
              "      <td>2011-04-10</td>\n",
              "      <td>[thing, learned, people, like, loaning, money,...</td>\n",
              "      <td>[-0.044691846, -0.2069555, 0.0025488473, -0.06...</td>\n",
              "    </tr>\n",
              "    <tr>\n",
              "      <th>2</th>\n",
              "      <td>2011-05-26</td>\n",
              "      <td>[congress, outperforms, average, investor, yea...</td>\n",
              "      <td>[-0.044691846, -0.2069555, 0.0025488473, -0.06...</td>\n",
              "    </tr>\n",
              "    <tr>\n",
              "      <th>3</th>\n",
              "      <td>2011-05-30</td>\n",
              "      <td>[earn, 35-45k/year, saved, 200k, invest, freel...</td>\n",
              "      <td>[-0.044691846, -0.2069555, 0.0025488473, -0.06...</td>\n",
              "    </tr>\n",
              "    <tr>\n",
              "      <th>4</th>\n",
              "      <td>2011-06-14</td>\n",
              "      <td>[groupon, poised, collapse]</td>\n",
              "      <td>[-0.044691846, -0.2069555, 0.0025488473, -0.06...</td>\n",
              "    </tr>\n",
              "    <tr>\n",
              "      <th>...</th>\n",
              "      <td>...</td>\n",
              "      <td>...</td>\n",
              "      <td>...</td>\n",
              "    </tr>\n",
              "    <tr>\n",
              "      <th>2724</th>\n",
              "      <td>2020-04-14</td>\n",
              "      <td>[airline, treasury, reach, agreement, principl...</td>\n",
              "      <td>[0.2365981, -0.20466095, -0.13347831, -0.28283...</td>\n",
              "    </tr>\n",
              "    <tr>\n",
              "      <th>2725</th>\n",
              "      <td>2020-04-15</td>\n",
              "      <td>[bear, market, rally, largely, fomo, buying, r...</td>\n",
              "      <td>[0.2365981, -0.20466095, -0.13347831, -0.28283...</td>\n",
              "    </tr>\n",
              "    <tr>\n",
              "      <th>2726</th>\n",
              "      <td>2020-04-16</td>\n",
              "      <td>[small, business, rescue, loan, program, hit, ...</td>\n",
              "      <td>[0.0587442, -0.09827107, -0.07613396, 0.143872...</td>\n",
              "    </tr>\n",
              "    <tr>\n",
              "      <th>2727</th>\n",
              "      <td>2020-04-17</td>\n",
              "      <td>[shopify, cto, platform, handling, black, frid...</td>\n",
              "      <td>[0.0587442, -0.09827107, -0.07613396, 0.143872...</td>\n",
              "    </tr>\n",
              "    <tr>\n",
              "      <th>2728</th>\n",
              "      <td>2020-04-18</td>\n",
              "      <td>[congressman, call, sec, investigation, leak, ...</td>\n",
              "      <td>[0.0587442, -0.09827107, -0.07613396, 0.143872...</td>\n",
              "    </tr>\n",
              "  </tbody>\n",
              "</table>\n",
              "<p>2729 rows × 3 columns</p>\n",
              "</div>"
            ],
            "text/plain": [
              "            Date  ...                                          5_Vectors\n",
              "0     2011-04-05  ...  [-0.044691846, -0.2069555, 0.0025488473, -0.06...\n",
              "1     2011-04-10  ...  [-0.044691846, -0.2069555, 0.0025488473, -0.06...\n",
              "2     2011-05-26  ...  [-0.044691846, -0.2069555, 0.0025488473, -0.06...\n",
              "3     2011-05-30  ...  [-0.044691846, -0.2069555, 0.0025488473, -0.06...\n",
              "4     2011-06-14  ...  [-0.044691846, -0.2069555, 0.0025488473, -0.06...\n",
              "...          ...  ...                                                ...\n",
              "2724  2020-04-14  ...  [0.2365981, -0.20466095, -0.13347831, -0.28283...\n",
              "2725  2020-04-15  ...  [0.2365981, -0.20466095, -0.13347831, -0.28283...\n",
              "2726  2020-04-16  ...  [0.0587442, -0.09827107, -0.07613396, 0.143872...\n",
              "2727  2020-04-17  ...  [0.0587442, -0.09827107, -0.07613396, 0.143872...\n",
              "2728  2020-04-18  ...  [0.0587442, -0.09827107, -0.07613396, 0.143872...\n",
              "\n",
              "[2729 rows x 3 columns]"
            ]
          },
          "metadata": {
            "tags": []
          },
          "execution_count": 74
        }
      ]
    },
    {
      "cell_type": "code",
      "metadata": {
        "id": "AisAYV0Ay7mc",
        "colab_type": "code",
        "colab": {
          "base_uri": "https://localhost:8080/",
          "height": 34
        },
        "outputId": "9dc5e36c-c807-48e1-de67-4577340aa93e"
      },
      "source": [
        "l = []\n",
        "for i in range(len(df_get_vector)):\n",
        "  l.append(len(df_get_vector.loc[i,'5_Vectors']))\n",
        "\n",
        "\n",
        "print(max(l))"
      ],
      "execution_count": 75,
      "outputs": [
        {
          "output_type": "stream",
          "text": [
            "80400\n"
          ],
          "name": "stdout"
        }
      ]
    },
    {
      "cell_type": "code",
      "metadata": {
        "id": "zigmUzFT57z7",
        "colab_type": "code",
        "colab": {}
      },
      "source": [
        "# 把每天的向量長度補0補到跟最長的那天一樣\n",
        "pad_list = []\n",
        "for i in range(len(df_get_vector)):\n",
        "  width = 80400 - len(df_get_vector.loc[i,'5_Vectors'])\n",
        "  df_get_vector.loc[i,'5_Vectors'] = np.pad(df_get_vector.loc[i,'5_Vectors'], (0, width ), constant_values =0)"
      ],
      "execution_count": 0,
      "outputs": []
    },
    {
      "cell_type": "code",
      "metadata": {
        "id": "EpmWhN5BshZv",
        "colab_type": "code",
        "colab": {
          "base_uri": "https://localhost:8080/",
          "height": 153
        },
        "outputId": "c1cbe6b1-ae7f-4f8f-d360-293395166d5f"
      },
      "source": [
        "# PCA\n",
        "from sklearn.decomposition import PCA\n",
        "\n",
        "pca_vector_list = np.array(df_get_vector['5_Vectors'].tolist())\n",
        "\n",
        "pca = PCA(n_components = 5) # 每天降成五維\n",
        "\n",
        "new_vector = pca.fit_transform(pca_vector_list)\n",
        "\n",
        "new_vector"
      ],
      "execution_count": 39,
      "outputs": [
        {
          "output_type": "execute_result",
          "data": {
            "text/plain": [
              "array([[-6.323856 , -2.0471277, -2.0278535, -1.4562283, -1.0994946],\n",
              "       [-6.3238673, -2.0471435, -2.0277867, -1.4562563, -1.0994828],\n",
              "       [-6.3238673, -2.0471516, -2.0278668, -1.4562508, -1.0994986],\n",
              "       ...,\n",
              "       [-6.1928234, -1.8906142, -2.147569 , -1.4337283, -1.1089072],\n",
              "       [-6.1928234, -1.8906142, -2.147569 , -1.4337283, -1.1089072],\n",
              "       [-6.1928234, -1.8906142, -2.147569 , -1.4337283, -1.1089072]],\n",
              "      dtype=float32)"
            ]
          },
          "metadata": {
            "tags": []
          },
          "execution_count": 39
        }
      ]
    },
    {
      "cell_type": "code",
      "metadata": {
        "id": "QgsAA6gY8RjY",
        "colab_type": "code",
        "colab": {
          "base_uri": "https://localhost:8080/",
          "height": 34
        },
        "outputId": "d20be30a-bdd5-437f-d0ed-296743ade651"
      },
      "source": [
        "len(new_vector)"
      ],
      "execution_count": 40,
      "outputs": [
        {
          "output_type": "execute_result",
          "data": {
            "text/plain": [
              "2729"
            ]
          },
          "metadata": {
            "tags": []
          },
          "execution_count": 40
        }
      ]
    },
    {
      "cell_type": "code",
      "metadata": {
        "id": "GfqeRorL8W1h",
        "colab_type": "code",
        "colab": {
          "base_uri": "https://localhost:8080/",
          "height": 419
        },
        "outputId": "ed185dc5-961c-4d8c-aeff-e50bacf40536"
      },
      "source": [
        "\n",
        "df_get_vector['5_Vectors'] = list(new_vector)\n",
        "\n",
        "df_get_vector\n"
      ],
      "execution_count": 42,
      "outputs": [
        {
          "output_type": "execute_result",
          "data": {
            "text/html": [
              "<div>\n",
              "<style scoped>\n",
              "    .dataframe tbody tr th:only-of-type {\n",
              "        vertical-align: middle;\n",
              "    }\n",
              "\n",
              "    .dataframe tbody tr th {\n",
              "        vertical-align: top;\n",
              "    }\n",
              "\n",
              "    .dataframe thead th {\n",
              "        text-align: right;\n",
              "    }\n",
              "</style>\n",
              "<table border=\"1\" class=\"dataframe\">\n",
              "  <thead>\n",
              "    <tr style=\"text-align: right;\">\n",
              "      <th></th>\n",
              "      <th>Date</th>\n",
              "      <th>Text</th>\n",
              "      <th>5_Vectors</th>\n",
              "    </tr>\n",
              "  </thead>\n",
              "  <tbody>\n",
              "    <tr>\n",
              "      <th>0</th>\n",
              "      <td>2011-04-05</td>\n",
              "      <td>[reddit, investment, club, interested, throwin...</td>\n",
              "      <td>[-6.323856, -2.0471277, -2.0278535, -1.4562283...</td>\n",
              "    </tr>\n",
              "    <tr>\n",
              "      <th>1</th>\n",
              "      <td>2011-04-10</td>\n",
              "      <td>[thing, learned, people, like, loaning, money,...</td>\n",
              "      <td>[-6.3238673, -2.0471435, -2.0277867, -1.456256...</td>\n",
              "    </tr>\n",
              "    <tr>\n",
              "      <th>2</th>\n",
              "      <td>2011-05-26</td>\n",
              "      <td>[congress, outperforms, average, investor, yea...</td>\n",
              "      <td>[-6.3238673, -2.0471516, -2.0278668, -1.456250...</td>\n",
              "    </tr>\n",
              "    <tr>\n",
              "      <th>3</th>\n",
              "      <td>2011-05-30</td>\n",
              "      <td>[earn, 35-45k/year, saved, 200k, invest, freel...</td>\n",
              "      <td>[-6.3238673, -2.0471513, -2.0278628, -1.456235...</td>\n",
              "    </tr>\n",
              "    <tr>\n",
              "      <th>4</th>\n",
              "      <td>2011-06-14</td>\n",
              "      <td>[groupon, poised, collapse]</td>\n",
              "      <td>[-6.3238673, -2.0471513, -2.0278628, -1.456245...</td>\n",
              "    </tr>\n",
              "    <tr>\n",
              "      <th>...</th>\n",
              "      <td>...</td>\n",
              "      <td>...</td>\n",
              "      <td>...</td>\n",
              "    </tr>\n",
              "    <tr>\n",
              "      <th>2724</th>\n",
              "      <td>2020-04-14</td>\n",
              "      <td>[airline, treasury, reach, agreement, principl...</td>\n",
              "      <td>[-6.238138, -1.906116, -2.106356, -1.463159, -...</td>\n",
              "    </tr>\n",
              "    <tr>\n",
              "      <th>2725</th>\n",
              "      <td>2020-04-15</td>\n",
              "      <td>[bear, market, rally, largely, fomo, buying, r...</td>\n",
              "      <td>[-6.238138, -1.906116, -2.106356, -1.463159, -...</td>\n",
              "    </tr>\n",
              "    <tr>\n",
              "      <th>2726</th>\n",
              "      <td>2020-04-16</td>\n",
              "      <td>[small, business, rescue, loan, program, hit, ...</td>\n",
              "      <td>[-6.1928234, -1.8906142, -2.147569, -1.4337283...</td>\n",
              "    </tr>\n",
              "    <tr>\n",
              "      <th>2727</th>\n",
              "      <td>2020-04-17</td>\n",
              "      <td>[shopify, cto, platform, handling, black, frid...</td>\n",
              "      <td>[-6.1928234, -1.8906142, -2.147569, -1.4337283...</td>\n",
              "    </tr>\n",
              "    <tr>\n",
              "      <th>2728</th>\n",
              "      <td>2020-04-18</td>\n",
              "      <td>[congressman, call, sec, investigation, leak, ...</td>\n",
              "      <td>[-6.1928234, -1.8906142, -2.147569, -1.4337283...</td>\n",
              "    </tr>\n",
              "  </tbody>\n",
              "</table>\n",
              "<p>2729 rows × 3 columns</p>\n",
              "</div>"
            ],
            "text/plain": [
              "            Date  ...                                          5_Vectors\n",
              "0     2011-04-05  ...  [-6.323856, -2.0471277, -2.0278535, -1.4562283...\n",
              "1     2011-04-10  ...  [-6.3238673, -2.0471435, -2.0277867, -1.456256...\n",
              "2     2011-05-26  ...  [-6.3238673, -2.0471516, -2.0278668, -1.456250...\n",
              "3     2011-05-30  ...  [-6.3238673, -2.0471513, -2.0278628, -1.456235...\n",
              "4     2011-06-14  ...  [-6.3238673, -2.0471513, -2.0278628, -1.456245...\n",
              "...          ...  ...                                                ...\n",
              "2724  2020-04-14  ...  [-6.238138, -1.906116, -2.106356, -1.463159, -...\n",
              "2725  2020-04-15  ...  [-6.238138, -1.906116, -2.106356, -1.463159, -...\n",
              "2726  2020-04-16  ...  [-6.1928234, -1.8906142, -2.147569, -1.4337283...\n",
              "2727  2020-04-17  ...  [-6.1928234, -1.8906142, -2.147569, -1.4337283...\n",
              "2728  2020-04-18  ...  [-6.1928234, -1.8906142, -2.147569, -1.4337283...\n",
              "\n",
              "[2729 rows x 3 columns]"
            ]
          },
          "metadata": {
            "tags": []
          },
          "execution_count": 42
        }
      ]
    },
    {
      "cell_type": "code",
      "metadata": {
        "id": "3ef2e9EaD6S4",
        "colab_type": "code",
        "colab": {}
      },
      "source": [
        "file = open('/content/drive/My Drive/野村_文字探勘_加減碼_組別一/Reddit/PCA_Scalar_5dim_30up.pickle', 'wb')\n",
        "pickle.dump(df_get_vector2, file)\n",
        "file.close()\n"
      ],
      "execution_count": 0,
      "outputs": []
    },
    {
      "cell_type": "code",
      "metadata": {
        "id": "76stdvuy8o-L",
        "colab_type": "code",
        "colab": {
          "base_uri": "https://localhost:8080/",
          "height": 365
        },
        "outputId": "723c6837-6594-4740-b722-520e1d7c9f1c"
      },
      "source": [
        "# pca 畫成2維的圖試試\n",
        "import seaborn as sns\n",
        "from matplotlib import pyplot as plt\n",
        "\n",
        "sns.set(style=\"darkgrid\")\n",
        "sns.set(rc={'figure.figsize':(24,18)})\n",
        "\n",
        "pca = PCA(n_components = 2) # 2維\n",
        "pic_list = np.array(df_get_vector['5_Vectors'].tolist())\n",
        "pic_vector = pca.fit_transform(pic_list)\n",
        "pic_df = pd.DataFrame(data = pic_vector, columns=['X','Y'])\n",
        "sns.lmplot('X', 'Y', data = pic_df, fit_reg=False)\n",
        "\n",
        "plt.show()"
      ],
      "execution_count": 50,
      "outputs": [
        {
          "output_type": "display_data",
          "data": {
            "image/png": "[encoded data removed]",
            "text/plain": [
              "<Figure size 360x360 with 1 Axes>"
            ]
          },
          "metadata": {
            "tags": []
          }
        }
      ]
    },
    {
      "cell_type": "code",
      "metadata": {
        "id": "JnKxC5GvA2qc",
        "colab_type": "code",
        "colab": {
          "base_uri": "https://localhost:8080/",
          "height": 153
        },
        "outputId": "e73a864d-1096-46bd-b3cf-67bad4cea3d2"
      },
      "source": [
        "# Standard Scalar PCA\n",
        "from sklearn.preprocessing import StandardScaler\n",
        "\n",
        "pca_vector_list = np.array(df_get_vector['5_Vectors'].tolist())\n",
        "pca_x = StandardScaler().fit_transform(pca_vector_list)\n",
        "\n",
        "pca = PCA(n_components = 5) # 每天降成五維\n",
        "new_vector2 = pca.fit_transform(pca_x)\n",
        "\n",
        "new_vector2"
      ],
      "execution_count": 77,
      "outputs": [
        {
          "output_type": "execute_result",
          "data": {
            "text/plain": [
              "array([[-157.9978  ,  -48.443027,  -32.294434,  -30.786875,  -22.634579],\n",
              "       [-157.99788 ,  -48.441658,  -32.294376,  -30.787516,  -22.634346],\n",
              "       [-157.99788 ,  -48.441788,  -32.294373,  -30.787176,  -22.634272],\n",
              "       ...,\n",
              "       [-156.84184 ,  -47.265984,  -33.673912,  -30.5844  ,  -22.293045],\n",
              "       [-156.84184 ,  -47.265984,  -33.673912,  -30.5844  ,  -22.293045],\n",
              "       [-156.84184 ,  -47.265984,  -33.673912,  -30.5844  ,  -22.293045]],\n",
              "      dtype=float32)"
            ]
          },
          "metadata": {
            "tags": []
          },
          "execution_count": 77
        }
      ]
    },
    {
      "cell_type": "code",
      "metadata": {
        "id": "5bEJmXgtGydF",
        "colab_type": "code",
        "colab": {
          "base_uri": "https://localhost:8080/",
          "height": 419
        },
        "outputId": "14cbb913-1196-48db-cf32-d2c3815fe4b5"
      },
      "source": [
        "df_get_vector2 = df_get_vector\n",
        "df_get_vector2['5_Vectors'] = list(new_vector2)\n",
        "\n",
        "df_get_vector2"
      ],
      "execution_count": 78,
      "outputs": [
        {
          "output_type": "execute_result",
          "data": {
            "text/html": [
              "<div>\n",
              "<style scoped>\n",
              "    .dataframe tbody tr th:only-of-type {\n",
              "        vertical-align: middle;\n",
              "    }\n",
              "\n",
              "    .dataframe tbody tr th {\n",
              "        vertical-align: top;\n",
              "    }\n",
              "\n",
              "    .dataframe thead th {\n",
              "        text-align: right;\n",
              "    }\n",
              "</style>\n",
              "<table border=\"1\" class=\"dataframe\">\n",
              "  <thead>\n",
              "    <tr style=\"text-align: right;\">\n",
              "      <th></th>\n",
              "      <th>Date</th>\n",
              "      <th>Text</th>\n",
              "      <th>5_Vectors</th>\n",
              "    </tr>\n",
              "  </thead>\n",
              "  <tbody>\n",
              "    <tr>\n",
              "      <th>0</th>\n",
              "      <td>2011-04-05</td>\n",
              "      <td>[reddit, investment, club, interested, throwin...</td>\n",
              "      <td>[-157.9978, -48.443027, -32.294434, -30.786875...</td>\n",
              "    </tr>\n",
              "    <tr>\n",
              "      <th>1</th>\n",
              "      <td>2011-04-10</td>\n",
              "      <td>[thing, learned, people, like, loaning, money,...</td>\n",
              "      <td>[-157.99788, -48.441658, -32.294376, -30.78751...</td>\n",
              "    </tr>\n",
              "    <tr>\n",
              "      <th>2</th>\n",
              "      <td>2011-05-26</td>\n",
              "      <td>[congress, outperforms, average, investor, yea...</td>\n",
              "      <td>[-157.99788, -48.441788, -32.294373, -30.78717...</td>\n",
              "    </tr>\n",
              "    <tr>\n",
              "      <th>3</th>\n",
              "      <td>2011-05-30</td>\n",
              "      <td>[earn, 35-45k/year, saved, 200k, invest, freel...</td>\n",
              "      <td>[-157.99788, -48.44179, -32.29421, -30.787487,...</td>\n",
              "    </tr>\n",
              "    <tr>\n",
              "      <th>4</th>\n",
              "      <td>2011-06-14</td>\n",
              "      <td>[groupon, poised, collapse]</td>\n",
              "      <td>[-157.99788, -48.44179, -32.294212, -30.787289...</td>\n",
              "    </tr>\n",
              "    <tr>\n",
              "      <th>...</th>\n",
              "      <td>...</td>\n",
              "      <td>...</td>\n",
              "      <td>...</td>\n",
              "    </tr>\n",
              "    <tr>\n",
              "      <th>2724</th>\n",
              "      <td>2020-04-14</td>\n",
              "      <td>[airline, treasury, reach, agreement, principl...</td>\n",
              "      <td>[-157.01405, -47.17953, -32.71634, -30.631706,...</td>\n",
              "    </tr>\n",
              "    <tr>\n",
              "      <th>2725</th>\n",
              "      <td>2020-04-15</td>\n",
              "      <td>[bear, market, rally, largely, fomo, buying, r...</td>\n",
              "      <td>[-157.01405, -47.17953, -32.71634, -30.631706,...</td>\n",
              "    </tr>\n",
              "    <tr>\n",
              "      <th>2726</th>\n",
              "      <td>2020-04-16</td>\n",
              "      <td>[small, business, rescue, loan, program, hit, ...</td>\n",
              "      <td>[-156.84184, -47.265984, -33.673912, -30.5844,...</td>\n",
              "    </tr>\n",
              "    <tr>\n",
              "      <th>2727</th>\n",
              "      <td>2020-04-17</td>\n",
              "      <td>[shopify, cto, platform, handling, black, frid...</td>\n",
              "      <td>[-156.84184, -47.265984, -33.673912, -30.5844,...</td>\n",
              "    </tr>\n",
              "    <tr>\n",
              "      <th>2728</th>\n",
              "      <td>2020-04-18</td>\n",
              "      <td>[congressman, call, sec, investigation, leak, ...</td>\n",
              "      <td>[-156.84184, -47.265984, -33.673912, -30.5844,...</td>\n",
              "    </tr>\n",
              "  </tbody>\n",
              "</table>\n",
              "<p>2729 rows × 3 columns</p>\n",
              "</div>"
            ],
            "text/plain": [
              "            Date  ...                                          5_Vectors\n",
              "0     2011-04-05  ...  [-157.9978, -48.443027, -32.294434, -30.786875...\n",
              "1     2011-04-10  ...  [-157.99788, -48.441658, -32.294376, -30.78751...\n",
              "2     2011-05-26  ...  [-157.99788, -48.441788, -32.294373, -30.78717...\n",
              "3     2011-05-30  ...  [-157.99788, -48.44179, -32.29421, -30.787487,...\n",
              "4     2011-06-14  ...  [-157.99788, -48.44179, -32.294212, -30.787289...\n",
              "...          ...  ...                                                ...\n",
              "2724  2020-04-14  ...  [-157.01405, -47.17953, -32.71634, -30.631706,...\n",
              "2725  2020-04-15  ...  [-157.01405, -47.17953, -32.71634, -30.631706,...\n",
              "2726  2020-04-16  ...  [-156.84184, -47.265984, -33.673912, -30.5844,...\n",
              "2727  2020-04-17  ...  [-156.84184, -47.265984, -33.673912, -30.5844,...\n",
              "2728  2020-04-18  ...  [-156.84184, -47.265984, -33.673912, -30.5844,...\n",
              "\n",
              "[2729 rows x 3 columns]"
            ]
          },
          "metadata": {
            "tags": []
          },
          "execution_count": 78
        }
      ]
    },
    {
      "cell_type": "code",
      "metadata": {
        "id": "I7JYPnNDCSEB",
        "colab_type": "code",
        "colab": {
          "base_uri": "https://localhost:8080/",
          "height": 365
        },
        "outputId": "b3d6fe19-4d1b-4055-d468-75ac9c1d0ced"
      },
      "source": [
        "# Scalar pca 畫成2維的圖試試\n",
        "import seaborn as sns\n",
        "from matplotlib import pyplot as plt\n",
        "\n",
        "sns.set(style=\"darkgrid\")\n",
        "sns.set(rc={'figure.figsize':(24,18)})\n",
        "\n",
        "pca = PCA(n_components = 2) # 2維\n",
        "pic_list = np.array(df_get_vector2['5_Vectors'].tolist())\n",
        "pic_vector = pca.fit_transform(pic_list)\n",
        "pic_df = pd.DataFrame(data = pic_vector, columns=['X','Y'])\n",
        "sns.lmplot('X', 'Y', data = pic_df, fit_reg=False)\n",
        "\n",
        "plt.show()"
      ],
      "execution_count": 80,
      "outputs": [
        {
          "output_type": "display_data",
          "data": {
            "image/png": "[encoded data removed]",
            "text/plain": [
              "<Figure size 360x360 with 1 Axes>"
            ]
          },
          "metadata": {
            "tags": []
          }
        }
      ]
    },
    {
      "cell_type": "code",
      "metadata": {
        "id": "-9J9mzbFCmlY",
        "colab_type": "code",
        "colab": {}
      },
      "source": [
        "fig = plt.figure(figsize = (8,8))\n",
        "ax = fig.add_subplot(1,1,1) \n",
        "#ax.set_xlabel('Principal Component 1', fontsize = 15)\n",
        "#ax.set_ylabel('Principal Component 2', fontsize = 15)\n",
        "#ax.set_title('2 Component PCA', fontsize = 20)\n",
        "\n",
        "\n",
        "targets = ['X', 'Y']\n",
        "colors = ['r', 'g', 'b']\n",
        "for target, color in zip(targets,colors):\n",
        "    indicesToKeep = finalDf['target'] == target\n",
        "    ax.scatter(finalDf.loc[indicesToKeep, 'principal component 1']\n",
        "               , finalDf.loc[indicesToKeep, 'principal component 2']\n",
        "               , c = color\n",
        "               , s = 50)\n",
        "ax.legend(targets)\n",
        "ax.grid()"
      ],
      "execution_count": 0,
      "outputs": []
    }
  ]
}